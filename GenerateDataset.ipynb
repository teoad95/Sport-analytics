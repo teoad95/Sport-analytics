{
 "metadata": {
  "language_info": {
   "codemirror_mode": {
    "name": "ipython",
    "version": 3
   },
   "file_extension": ".py",
   "mimetype": "text/x-python",
   "name": "python",
   "nbconvert_exporter": "python",
   "pygments_lexer": "ipython3",
   "version": "3.8.5"
  },
  "orig_nbformat": 2,
  "kernelspec": {
   "name": "python385jvsc74a57bd0dca0ade3e726a953b501b15e8e990130d2b7799f14cfd9f4271676035ebe5511",
   "display_name": "Python 3.8.5 64-bit ('base': conda)"
  },
  "metadata": {
   "interpreter": {
    "hash": "dca0ade3e726a953b501b15e8e990130d2b7799f14cfd9f4271676035ebe5511"
   }
  }
 },
 "nbformat": 4,
 "nbformat_minor": 2,
 "cells": [
  {
   "cell_type": "code",
   "execution_count": 1,
   "metadata": {},
   "outputs": [],
   "source": [
    "import urllib\n",
    "from pytube import YouTube\n",
    "import cv2\n",
    "import os\n",
    "import glob"
   ]
  },
  {
   "cell_type": "code",
   "execution_count": 2,
   "metadata": {},
   "outputs": [],
   "source": [
    "def download_video(url, path='Videos'):\n",
    "    yt = YouTube(url)\n",
    "    yt = yt.streams.filter(file_extension='mp4').first()\n",
    "    out_file = yt.download(path)\n",
    "    file_name = out_file.split(\"\\\\\")[-1]\n",
    "    print(f\"Downloaded {file_name}, in location {path} correctly!\")\n",
    "    return file_name"
   ]
  },
  {
   "cell_type": "code",
   "execution_count": 9,
   "metadata": {},
   "outputs": [],
   "source": [
    "def get_video_name(video_name_with_location):\n",
    "    p = video_name_with_location.split(\"/\")\n",
    "    return p[-1].replace(\".mp4\", \"\")"
   ]
  },
  {
   "cell_type": "code",
   "execution_count": 4,
   "metadata": {},
   "outputs": [],
   "source": [
    "def extract_images_from_video(video):    \n",
    "    vidcap = cv2.VideoCapture(video)\n",
    "    count = 0\n",
    "\n",
    "    path = os.getcwd() + '/Images'\n",
    "    if not os.path.exists(path):\n",
    "        os.mkdir(path)\n",
    "    path = path + '/' + get_video_name(video)\n",
    "    if not os.path.exists(path):\n",
    "        os.mkdir(path)\n",
    "        \n",
    "    def getFrame(sec):\n",
    "        vidcap.set(cv2.CAP_PROP_POS_MSEC,sec*1000)\n",
    "        hasFrames,image = vidcap.read()\n",
    "        if hasFrames:\n",
    "            write = cv2.imwrite(path + \"/frame\"+str(count)+\".jpg\", image)     # save frame as JPG file\n",
    "        return hasFrames\n",
    "    sec = 2\n",
    "    frameRate = 2 #//it will capture image in each 0.5 second\n",
    "    success = getFrame(sec)\n",
    "    while success:\n",
    "        count = count + 1\n",
    "        sec = sec + frameRate\n",
    "        sec = round(sec, 2)\n",
    "        success = getFrame(sec)"
   ]
  },
  {
   "cell_type": "code",
   "execution_count": 7,
   "metadata": {},
   "outputs": [],
   "source": [
    "def get_frames_from_youtube_video(video_url):\n",
    "    video = download_video(video_url)\n",
    "    extract_images_from_video(video)\n",
    "    os.remove(video)"
   ]
  },
  {
   "cell_type": "code",
   "execution_count": 10,
   "metadata": {},
   "outputs": [
    {
     "output_type": "stream",
     "name": "stdout",
     "text": [
      "Downloaded /Users/thodoris/Documents/GitHub/Sport-analytics/Videos/Highlights Real Madrid vs FC Barcelona (2-1).mp4, in location Videos correctly!\n"
     ]
    }
   ],
   "source": [
    "get_frames_from_youtube_video('https://www.youtube.com/watch?v=TeTQO5DgOXI')"
   ]
  }
 ]
}