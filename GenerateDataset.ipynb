{
 "metadata": {
  "language_info": {
   "codemirror_mode": {
    "name": "ipython",
    "version": 3
   },
   "file_extension": ".py",
   "mimetype": "text/x-python",
   "name": "python",
   "nbconvert_exporter": "python",
   "pygments_lexer": "ipython3",
   "version": "3.8.5"
  },
  "orig_nbformat": 2,
  "kernelspec": {
   "name": "python385jvsc74a57bd0dca0ade3e726a953b501b15e8e990130d2b7799f14cfd9f4271676035ebe5511",
   "display_name": "Python 3.8.5 64-bit ('base': conda)"
  },
  "metadata": {
   "interpreter": {
    "hash": "dca0ade3e726a953b501b15e8e990130d2b7799f14cfd9f4271676035ebe5511"
   }
  }
 },
 "nbformat": 4,
 "nbformat_minor": 2,
 "cells": [
  {
   "cell_type": "code",
   "execution_count": 7,
   "metadata": {},
   "outputs": [],
   "source": [
    "import urllib\n",
    "from pytube import YouTube\n",
    "import cv2\n",
    "import os\n",
    "import glob"
   ]
  },
  {
   "cell_type": "code",
   "execution_count": 29,
   "metadata": {},
   "outputs": [],
   "source": [
    "def download_video(url, path='Videos'):\n",
    "    yt = YouTube(url)\n",
    "    yt = yt.streams.filter(file_extension='mp4').first()\n",
    "    out_file = yt.download(path)\n",
    "    file_name = out_file.split(\"\\\\\")[-1]\n",
    "    print(f\"Downloaded {file_name}, in location {path} correctly!\")\n",
    "    return file_name"
   ]
  },
  {
   "cell_type": "code",
   "execution_count": 55,
   "metadata": {},
   "outputs": [],
   "source": [
    "def extract_images_from_video(video):    \n",
    "    vidcap = cv2.VideoCapture(video)\n",
    "    count = 0 \n",
    "    def getFrame(sec):\n",
    "        vidcap.set(cv2.CAP_PROP_POS_MSEC,sec*1000)\n",
    "        hasFrames,image = vidcap.read()\n",
    "        if hasFrames:\n",
    "            write = cv2.imwrite(\"images/frame\"+str(count)+\".jpg\", image)     # save frame as JPG file\n",
    "            print(f\"write\"+str(write))\n",
    "            cv2.imshow('image',image)\n",
    "            cv2.waitKey(0)\n",
    "        return hasFrames\n",
    "    sec = 2\n",
    "    frameRate = 2 #//it will capture image in each 0.5 second\n",
    "    success = getFrame(sec)\n",
    "    while success:\n",
    "        count = count + 1\n",
    "        sec = sec + frameRate\n",
    "        sec = round(sec, 2)\n",
    "        success = getFrame(sec)"
   ]
  },
  {
   "cell_type": "code",
   "execution_count": 32,
   "metadata": {},
   "outputs": [
    {
     "output_type": "stream",
     "name": "stdout",
     "text": [
      "Downloaded /Users/thodoris/Documents/GitHub/Sport-analytics/Videos/ΑΕΚ - Ολυμπιακός 1-5 (MD2 playoff 442021).mp4, in location Videos correctly!\n"
     ]
    }
   ],
   "source": [
    "video = download_video('https://www.youtube.com/watch?v=41VYHU-enLA')"
   ]
  },
  {
   "cell_type": "code",
   "execution_count": 56,
   "metadata": {},
   "outputs": [
    {
     "output_type": "stream",
     "name": "stdout",
     "text": [
      "hasFrames True\n",
      "images/frame0.jpg\n",
      "writeFalse\n",
      "hasFrames True\n",
      "images/frame1.jpg\n",
      "writeFalse\n",
      "hasFrames True\n",
      "images/frame2.jpg\n",
      "writeFalse\n",
      "hasFrames True\n",
      "images/frame3.jpg\n",
      "writeFalse\n",
      "hasFrames True\n",
      "images/frame4.jpg\n",
      "writeFalse\n",
      "hasFrames True\n",
      "images/frame5.jpg\n",
      "writeFalse\n",
      "hasFrames True\n",
      "images/frame6.jpg\n",
      "writeFalse\n"
     ]
    }
   ],
   "source": [
    "extract_images_from_video(video)"
   ]
  },
  {
   "cell_type": "code",
   "execution_count": null,
   "metadata": {},
   "outputs": [],
   "source": []
  }
 ]
}