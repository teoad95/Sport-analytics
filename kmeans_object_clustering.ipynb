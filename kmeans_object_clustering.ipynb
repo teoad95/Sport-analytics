{
 "cells": [
  {
   "cell_type": "code",
   "execution_count": 33,
   "metadata": {},
   "outputs": [],
   "source": [
    "import cv2\n",
    "import numpy as np\n",
    "from sklearn.cluster import KMeans\n",
    "import pandas as pd\n",
    "import os"
   ]
  },
  {
   "cell_type": "code",
   "execution_count": 34,
   "metadata": {},
   "outputs": [],
   "source": [
    "def extract_average_color(img):\n",
    "    # calculate the average color of each row of our image\n",
    "    avg_color_per_row = np.average(img, axis=0)\n",
    "\n",
    "    # calculate the averages of our rows\n",
    "    avg_colors = np.average(avg_color_per_row, axis=0)\n",
    "    # so, convert that array to integers\n",
    "    int_averages = np.array(avg_colors, dtype=np.uint8)\n",
    "    return int_averages"
   ]
  },
  {
   "cell_type": "code",
   "execution_count": 35,
   "metadata": {},
   "outputs": [],
   "source": [
    "imagePaths = os.getcwd() + '/ImagesFromObject'"
   ]
  },
  {
   "cell_type": "code",
   "execution_count": 36,
   "metadata": {},
   "outputs": [],
   "source": [
    "# initialize the raw pixel intensities matrix, the features matrix,\n",
    "# and labels list\n",
    "rawImages = []\n",
    "features = []\n",
    "labels = []"
   ]
  },
  {
   "cell_type": "code",
   "execution_count": 37,
   "metadata": {},
   "outputs": [],
   "source": [
    "for file in os.listdir(imagePaths):\n",
    "    imagePath = imagePaths + '/' + file\n",
    "    image = cv2.imread(imagePath)\n",
    "    label = imagePath.split(os.path.sep)[-1].split(\".\")[0]\n",
    "    hist = extract_average_color(image)\n",
    "    rawImages.append(image)\n",
    "    features.append(hist)\n",
    "    labels.append(label)"
   ]
  },
  {
   "cell_type": "code",
   "execution_count": 38,
   "metadata": {},
   "outputs": [
    {
     "output_type": "execute_result",
     "data": {
      "text/plain": [
       "KMeans(n_clusters=2, random_state=40)"
      ]
     },
     "metadata": {},
     "execution_count": 38
    }
   ],
   "source": [
    "clusters = KMeans(2, random_state= 40)\n",
    "clusters.fit(features)"
   ]
  },
  {
   "cell_type": "code",
   "execution_count": 39,
   "metadata": {},
   "outputs": [
    {
     "output_type": "execute_result",
     "data": {
      "text/plain": [
       "     image  ClusterID\n",
       "0  person5          1\n",
       "1  person4          1\n",
       "2  person0          1\n",
       "3  person1          0\n",
       "4  person3          1\n",
       "5  person2          0"
      ],
      "text/html": "<div>\n<style scoped>\n    .dataframe tbody tr th:only-of-type {\n        vertical-align: middle;\n    }\n\n    .dataframe tbody tr th {\n        vertical-align: top;\n    }\n\n    .dataframe thead th {\n        text-align: right;\n    }\n</style>\n<table border=\"1\" class=\"dataframe\">\n  <thead>\n    <tr style=\"text-align: right;\">\n      <th></th>\n      <th>image</th>\n      <th>ClusterID</th>\n    </tr>\n  </thead>\n  <tbody>\n    <tr>\n      <th>0</th>\n      <td>person5</td>\n      <td>1</td>\n    </tr>\n    <tr>\n      <th>1</th>\n      <td>person4</td>\n      <td>1</td>\n    </tr>\n    <tr>\n      <th>2</th>\n      <td>person0</td>\n      <td>1</td>\n    </tr>\n    <tr>\n      <th>3</th>\n      <td>person1</td>\n      <td>0</td>\n    </tr>\n    <tr>\n      <th>4</th>\n      <td>person3</td>\n      <td>1</td>\n    </tr>\n    <tr>\n      <th>5</th>\n      <td>person2</td>\n      <td>0</td>\n    </tr>\n  </tbody>\n</table>\n</div>"
     },
     "metadata": {},
     "execution_count": 39
    }
   ],
   "source": [
    "image_cluster = pd.DataFrame(labels, columns= ['image'])\n",
    "image_cluster[\"ClusterID\"] = clusters.labels_\n",
    "image_cluster"
   ]
  },
  {
   "cell_type": "code",
   "execution_count": 32,
   "metadata": {},
   "outputs": [
    {
     "output_type": "display_data",
     "data": {
      "text/plain": "<Figure size 432x288 with 0 Axes>"
     },
     "metadata": {}
    },
    {
     "output_type": "display_data",
     "data": {
      "text/plain": "<Figure size 432x288 with 6 Axes>",
      "image/png": "[encoded data removed]"
     },
     "metadata": {
      "needs_background": "light"
     }
    }
   ],
   "source": [
    "import numpy as np\n",
    "import matplotlib.pyplot as plt\n",
    "plt.figure()\n",
    "f, axarr = plt.subplots(6,1) \n",
    "for i in range(0,6):\n",
    "    feature = features[i]\n",
    "    image = cv2.resize(rawImages[i], (5000, 5000)) \n",
    "    height, width, _ = np.shape(image)\n",
    "    average_image = np.zeros((height, width, 3), np.uint8)\n",
    "    average_image[:] = feature\n",
    "    axarr[i].imshow(np.hstack([image, average_image]))"
   ]
  },
  {
   "cell_type": "code",
   "execution_count": null,
   "metadata": {},
   "outputs": [],
   "source": []
  }
 ],
 "metadata": {
  "kernelspec": {
   "name": "python3",
   "display_name": "Python 3.8.8 64-bit ('base': conda)"
  },
  "language_info": {
   "codemirror_mode": {
    "name": "ipython",
    "version": 3
   },
   "file_extension": ".py",
   "mimetype": "text/x-python",
   "name": "python",
   "nbconvert_exporter": "python",
   "pygments_lexer": "ipython3",
   "version": "3.8.8"
  },
  "metadata": {
   "interpreter": {
    "hash": "dca0ade3e726a953b501b15e8e990130d2b7799f14cfd9f4271676035ebe5511"
   }
  },
  "interpreter": {
   "hash": "dca0ade3e726a953b501b15e8e990130d2b7799f14cfd9f4271676035ebe5511"
  }
 },
 "nbformat": 4,
 "nbformat_minor": 2
}