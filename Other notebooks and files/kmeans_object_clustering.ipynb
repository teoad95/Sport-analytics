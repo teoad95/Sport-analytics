{
 "cells": [
  {
   "source": [
    "<h1>Cluster extracted players</h1>\n",
    "<p>After applying Mask-RCNN, we end up having images of each player detected in the image.</p>\n",
    "<p>We will now cluster all these players "
   ],
   "cell_type": "markdown",
   "metadata": {}
  },
  {
   "cell_type": "code",
   "execution_count": 9,
   "metadata": {},
   "outputs": [],
   "source": [
    "import cv2\n",
    "import numpy as np\n",
    "from sklearn.cluster import KMeans\n",
    "import pandas as pd\n",
    "import os"
   ]
  },
  {
   "cell_type": "code",
   "execution_count": 10,
   "metadata": {},
   "outputs": [],
   "source": [
    "def extract_average_color(img):\n",
    "    # calculate the average color of each row of our image\n",
    "    avg_color_per_row = np.average(img, axis=0)\n",
    "\n",
    "    # calculate the averages of our rows\n",
    "    avg_colors = np.average(avg_color_per_row, axis=0)\n",
    "    # so, convert that array to integers\n",
    "    int_averages = np.array(avg_colors, dtype=np.uint8)\n",
    "    return int_averages"
   ]
  },
  {
   "cell_type": "code",
   "execution_count": 11,
   "metadata": {},
   "outputs": [],
   "source": [
    "imagePaths = os.getcwd() + '/ImagesFromObject'"
   ]
  },
  {
   "cell_type": "code",
   "execution_count": 12,
   "metadata": {},
   "outputs": [],
   "source": [
    "# initialize the raw pixel intensities matrix, the features matrix,\n",
    "# and labels list\n",
    "rawImages = []\n",
    "features = []\n",
    "labels = []"
   ]
  },
  {
   "cell_type": "code",
   "execution_count": 13,
   "metadata": {},
   "outputs": [],
   "source": [
    "for file in os.listdir(imagePaths):\n",
    "    imagePath = imagePaths + '/' + file\n",
    "    image = cv2.imread(imagePath)\n",
    "    label = imagePath.split(os.path.sep)[-1].split(\".\")[0]\n",
    "    hist = extract_average_color(image)\n",
    "    rawImages.append(image)\n",
    "    features.append(hist)\n",
    "    labels.append(label)"
   ]
  },
  {
   "cell_type": "code",
   "execution_count": 38,
   "metadata": {},
   "outputs": [
    {
     "output_type": "execute_result",
     "data": {
      "text/plain": [
       "KMeans(n_clusters=2, random_state=40)"
      ]
     },
     "metadata": {},
     "execution_count": 38
    }
   ],
   "source": [
    "clusters = KMeans(2, random_state= 40)\n",
    "clusters.fit(features)"
   ]
  },
  {
   "cell_type": "code",
   "execution_count": 14,
   "metadata": {},
   "outputs": [
    {
     "output_type": "execute_result",
     "data": {
      "text/plain": [
       "     image  ClusterID\n",
       "0  person6          0\n",
       "1  person5          0\n",
       "2  person4          1\n",
       "3  person0          0\n",
       "4  person1          0\n",
       "5  person3          0\n",
       "6  person2          1"
      ],
      "text/html": "<div>\n<style scoped>\n    .dataframe tbody tr th:only-of-type {\n        vertical-align: middle;\n    }\n\n    .dataframe tbody tr th {\n        vertical-align: top;\n    }\n\n    .dataframe thead th {\n        text-align: right;\n    }\n</style>\n<table border=\"1\" class=\"dataframe\">\n  <thead>\n    <tr style=\"text-align: right;\">\n      <th></th>\n      <th>image</th>\n      <th>ClusterID</th>\n    </tr>\n  </thead>\n  <tbody>\n    <tr>\n      <th>0</th>\n      <td>person6</td>\n      <td>0</td>\n    </tr>\n    <tr>\n      <th>1</th>\n      <td>person5</td>\n      <td>0</td>\n    </tr>\n    <tr>\n      <th>2</th>\n      <td>person4</td>\n      <td>1</td>\n    </tr>\n    <tr>\n      <th>3</th>\n      <td>person0</td>\n      <td>0</td>\n    </tr>\n    <tr>\n      <th>4</th>\n      <td>person1</td>\n      <td>0</td>\n    </tr>\n    <tr>\n      <th>5</th>\n      <td>person3</td>\n      <td>0</td>\n    </tr>\n    <tr>\n      <th>6</th>\n      <td>person2</td>\n      <td>1</td>\n    </tr>\n  </tbody>\n</table>\n</div>"
     },
     "metadata": {},
     "execution_count": 14
    }
   ],
   "source": [
    "image_cluster = pd.DataFrame(labels, columns= ['image'])\n",
    "image_cluster[\"ClusterID\"] = clusters.labels_\n",
    "image_cluster"
   ]
  }
 ],
 "metadata": {
  "kernelspec": {
   "name": "python3",
   "display_name": "Python 3.8.8 64-bit ('base': conda)"
  },
  "language_info": {
   "codemirror_mode": {
    "name": "ipython",
    "version": 3
   },
   "file_extension": ".py",
   "mimetype": "text/x-python",
   "name": "python",
   "nbconvert_exporter": "python",
   "pygments_lexer": "ipython3",
   "version": "3.8.8"
  },
  "metadata": {
   "interpreter": {
    "hash": "dca0ade3e726a953b501b15e8e990130d2b7799f14cfd9f4271676035ebe5511"
   }
  },
  "interpreter": {
   "hash": "dca0ade3e726a953b501b15e8e990130d2b7799f14cfd9f4271676035ebe5511"
  }
 },
 "nbformat": 4,
 "nbformat_minor": 2
}