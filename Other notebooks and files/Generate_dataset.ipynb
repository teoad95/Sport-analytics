{
 "metadata": {
  "language_info": {
   "codemirror_mode": {
    "name": "ipython",
    "version": 3
   },
   "file_extension": ".py",
   "mimetype": "text/x-python",
   "name": "python",
   "nbconvert_exporter": "python",
   "pygments_lexer": "ipython3",
   "version": "3.9.3"
  },
  "orig_nbformat": 2,
  "kernelspec": {
   "name": "python393jvsc74a57bd044a00289e6af8ccec2cd7a3e4ee694976c4bb0496fb4012686b9895df4119442",
   "display_name": "Python 3.9.3 64-bit ('env': venv)"
  },
  "metadata": {
   "interpreter": {
    "hash": "44a00289e6af8ccec2cd7a3e4ee694976c4bb0496fb4012686b9895df4119442"
   }
  }
 },
 "nbformat": 4,
 "nbformat_minor": 2,
 "cells": [
  {
   "source": [
    "import urllib\n",
    "from pytube import YouTube\n",
    "import cv2\n",
    "import os\n",
    "import glob"
   ],
   "cell_type": "code",
   "metadata": {},
   "execution_count": 1,
   "outputs": []
  },
  {
   "cell_type": "code",
   "execution_count": 2,
   "metadata": {},
   "outputs": [],
   "source": [
    "def download_video(url, path='Videos'):\n",
    "    yt = YouTube(url)\n",
    "    yt = yt.streams.filter(file_extension='mp4').first()\n",
    "    out_file = yt.download(path)\n",
    "    file_name = out_file.split(\"\\\\\")[-1]\n",
    "    print(f\"Downloaded {file_name}, in location {path} correctly!\")\n",
    "    return file_name"
   ]
  },
  {
   "cell_type": "code",
   "execution_count": 3,
   "metadata": {},
   "outputs": [],
   "source": [
    "def get_video_name(video_name_with_location):\n",
    "    p = video_name_with_location.split(\"/\")\n",
    "    return p[-1].replace(\".mp4\", \"\")"
   ]
  },
  {
   "cell_type": "code",
   "execution_count": 16,
   "metadata": {},
   "outputs": [],
   "source": [
    "def extract_images_from_video(video):    \n",
    "    vidcap = cv2.VideoCapture('.//Videos//' + video)\n",
    "    count = 0\n",
    "\n",
    "    path = os.getcwd() + '/Images'\n",
    "    if not os.path.exists(path):\n",
    "        os.mkdir(path)\n",
    "    path = path + '/' + get_video_name(video)\n",
    "    if not os.path.exists(path):\n",
    "        os.mkdir(path)\n",
    "        \n",
    "    def getFrame(sec):\n",
    "        vidcap.set(cv2.CAP_PROP_POS_MSEC,sec*1000)\n",
    "        hasFrames,image = vidcap.read()\n",
    "        if hasFrames:\n",
    "            write = cv2.imwrite(path + \"/frame\"+str(count)+\".jpg\", image)     # save frame as JPG file\n",
    "        return hasFrames\n",
    "    sec = 2\n",
    "    frameRate = 2 #//it will capture image in each 0.5 second\n",
    "    success = getFrame(sec)\n",
    "    while success:\n",
    "        count = count + 1\n",
    "        sec = sec + frameRate\n",
    "        sec = round(sec, 2)\n",
    "        success = getFrame(sec)"
   ]
  },
  {
   "cell_type": "code",
   "execution_count": 17,
   "metadata": {},
   "outputs": [],
   "source": [
    "def get_frames_from_youtube_video(video_url):\n",
    "    video = download_video(video_url)\n",
    "    extract_images_from_video(video)\n",
    "    os.remove(video)"
   ]
  },
  {
   "cell_type": "code",
   "execution_count": 18,
   "metadata": {},
   "outputs": [
    {
     "output_type": "stream",
     "name": "stdout",
     "text": [
      "Downloaded Highlights Real Madrid vs FC Barcelona (2-1).mp4, in location Videos correctly!\n"
     ]
    }
   ],
   "source": [
    "get_frames_from_youtube_video('https://www.youtube.com/watch?v=TeTQO5DgOXI')"
   ]
  },
  {
   "cell_type": "code",
   "execution_count": 2,
   "metadata": {},
   "outputs": [
    {
     "output_type": "stream",
     "name": "stdout",
     "text": [
      "Collecting package metadata (current_repodata.json): done\n",
      "Solving environment: done\n",
      "\n",
      "## Package Plan ##\n",
      "\n",
      "  environment location: /opt/anaconda3\n",
      "\n",
      "  added / updated specs:\n",
      "    - cpuonly\n",
      "    - pytorch\n",
      "    - torchvision\n",
      "\n",
      "\n",
      "The following packages will be downloaded:\n",
      "\n",
      "    package                    |            build\n",
      "    ---------------------------|-----------------\n",
      "    cpuonly-1.0                |                0           2 KB  pytorch\n",
      "    ffmpeg-4.3                 |       h0a44026_0        10.1 MB  pytorch\n",
      "    gnutls-3.6.15              |       hed9c0bf_0         974 KB\n",
      "    lame-3.100                 |       h1de35cc_0         316 KB\n",
      "    libidn2-2.3.1              |       h9ed2024_0          84 KB\n",
      "    libtasn1-4.16.0            |       h9ed2024_0          53 KB\n",
      "    libunistring-0.9.10        |       h9ed2024_0         519 KB\n",
      "    nettle-3.7.2               |       h230ac6f_1         381 KB\n",
      "    ninja-1.10.2               |       hf7b0b51_1         106 KB\n",
      "    openh264-2.1.0             |       hd9629dc_0         635 KB\n",
      "    pytorch-1.8.1              |          py3.8_0        71.9 MB  pytorch\n",
      "    torchvision-0.9.1          |         py38_cpu         6.8 MB  pytorch\n",
      "    ------------------------------------------------------------\n",
      "                                           Total:        91.8 MB\n",
      "\n",
      "The following NEW packages will be INSTALLED:\n",
      "\n",
      "  cpuonly            pytorch/noarch::cpuonly-1.0-0\n",
      "  ffmpeg             pytorch/osx-64::ffmpeg-4.3-h0a44026_0\n",
      "  gnutls             pkgs/main/osx-64::gnutls-3.6.15-hed9c0bf_0\n",
      "  lame               pkgs/main/osx-64::lame-3.100-h1de35cc_0\n",
      "  libidn2            pkgs/main/osx-64::libidn2-2.3.1-h9ed2024_0\n",
      "  libtasn1           pkgs/main/osx-64::libtasn1-4.16.0-h9ed2024_0\n",
      "  libunistring       pkgs/main/osx-64::libunistring-0.9.10-h9ed2024_0\n",
      "  nettle             pkgs/main/osx-64::nettle-3.7.2-h230ac6f_1\n",
      "  ninja              pkgs/main/osx-64::ninja-1.10.2-hf7b0b51_1\n",
      "  openh264           pkgs/main/osx-64::openh264-2.1.0-hd9629dc_0\n",
      "  pytorch            pytorch/osx-64::pytorch-1.8.1-py3.8_0\n",
      "  torchvision        pytorch/osx-64::torchvision-0.9.1-py38_cpu\n",
      "\n",
      "\n",
      "\n",
      "Downloading and Extracting Packages\n",
      "cpuonly-1.0          | 2 KB      | ##################################### | 100% \n",
      "libunistring-0.9.10  | 519 KB    | ##################################### | 100% \n",
      "libidn2-2.3.1        | 84 KB     | ##################################### | 100% \n",
      "lame-3.100           | 316 KB    | ##################################### | 100% \n",
      "ninja-1.10.2         | 106 KB    | ##################################### | 100% \n",
      "torchvision-0.9.1    | 6.8 MB    | ##################################### | 100% \n",
      "openh264-2.1.0       | 635 KB    | ##################################### | 100% \n",
      "gnutls-3.6.15        | 974 KB    | ##################################### | 100% \n",
      "ffmpeg-4.3           | 10.1 MB   | ##################################### | 100% \n",
      "libtasn1-4.16.0      | 53 KB     | ##################################### | 100% \n",
      "pytorch-1.8.1        | 71.9 MB   | ##################################### | 100% \n",
      "nettle-3.7.2         | 381 KB    | ##################################### | 100% \n",
      "Preparing transaction: done\n",
      "Verifying transaction: done\n",
      "Executing transaction: done\n",
      "\n",
      "Note: you may need to restart the kernel to use updated packages.\n"
     ]
    }
   ],
   "source": [
    "conda install pytorch torchvision cpuonly -c pytorch"
   ]
  },
  {
   "cell_type": "code",
   "execution_count": null,
   "metadata": {},
   "outputs": [],
   "source": []
  }
 ]
}